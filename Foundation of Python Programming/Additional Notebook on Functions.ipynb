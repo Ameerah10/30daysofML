{
 "cells": [
  {
   "cell_type": "markdown",
   "id": "d9bbe370",
   "metadata": {},
   "source": [
    "### Using input and def functions together"
   ]
  },
  {
   "cell_type": "code",
   "execution_count": 17,
   "id": "74a29074",
   "metadata": {},
   "outputs": [],
   "source": [
    "# This is a basic function that calculates BMI of an individual\n",
    "# If we intend to make it user-friendly such that the user does not need to call the function\n",
    "# Then we can combine integrate the input() function into the function we are creating\n",
    "def BMI_calculator(height, weight):\n",
    "    bmi = height / (weight * 2)"
   ]
  },
  {
   "cell_type": "code",
   "execution_count": 18,
   "id": "22dcf2df",
   "metadata": {},
   "outputs": [
    {
     "name": "stdout",
     "output_type": "stream",
     "text": [
      "Kindly fill in your name: Abdulhameed Dere\n"
     ]
    },
    {
     "data": {
      "text/plain": [
       "'Abdulhameed Dere'"
      ]
     },
     "execution_count": 18,
     "metadata": {},
     "output_type": "execute_result"
    }
   ],
   "source": [
    "# input() work in a way that the kernel keeps running until something is inputed into the space opened\n",
    "input('Kindly fill in your name: ')"
   ]
  },
  {
   "cell_type": "code",
   "execution_count": 23,
   "id": "bd484634",
   "metadata": {},
   "outputs": [
    {
     "name": "stdout",
     "output_type": "stream",
     "text": [
      "Kindly fill in your username: Ade\n",
      "Fill in your password: 1234\n",
      "Your username is Ade and your password is 1234\n"
     ]
    }
   ],
   "source": [
    "Username = input('Kindly fill in your username: ')\n",
    "password = int(input('Fill in your password: '))\n",
    "print('Your username is {} and your password is {}'.format(Username,password))"
   ]
  },
  {
   "cell_type": "code",
   "execution_count": 5,
   "id": "cf2f7f42",
   "metadata": {},
   "outputs": [
    {
     "name": "stdout",
     "output_type": "stream",
     "text": [
      "Enter first number:-23\n",
      "Enter second number:-34\n",
      "The smaller number between 23 and 34 is 23\n"
     ]
    }
   ],
   "source": [
    "def smaller_num(x, y): ## Can be rephrased to  def smaller_num(x, y):\n",
    "    if x > y:          ##                          if x > y:\n",
    "        number = y     ##                              return y\n",
    "    else:              ##                          else:\n",
    "        number = x     ##                              return x\n",
    "    return number\n",
    "\n",
    "x = input(\"Enter first number:-\")\n",
    "y = input(\"Enter second number:-\")\n",
    "result = smaller_num(x, y)\n",
    "print(\"The smaller number between \" +  str(x) + \" and \" + str(y) + \" is \" + str(result))"
   ]
  },
  {
   "cell_type": "code",
   "execution_count": 16,
   "id": "c78e8e04",
   "metadata": {},
   "outputs": [
    {
     "name": "stdout",
     "output_type": "stream",
     "text": [
      "Kindly input your height: 45\n",
      "Kindly input your weight: 80\n",
      "Your BMI is 0.28125\n"
     ]
    }
   ],
   "source": [
    "def BMI_calculator(height, weight):\n",
    "    bmi = height / (weight * 2)\n",
    "    return bmi\n",
    "\n",
    "height = int(input('Kindly input your height: '))\n",
    "weight = int(input('Kindly input your weight: '))\n",
    "bmi = BMI_calculator(height,weight)\n",
    "print('Your BMI is {}'.format(bmi))"
   ]
  },
  {
   "cell_type": "code",
   "execution_count": 13,
   "id": "8c708143",
   "metadata": {},
   "outputs": [
    {
     "data": {
      "text/plain": [
       "0.28125"
      ]
     },
     "execution_count": 13,
     "metadata": {},
     "output_type": "execute_result"
    }
   ],
   "source": [
    "BMI_calculator(45, 80)"
   ]
  },
  {
   "cell_type": "code",
   "execution_count": null,
   "id": "0fc9d12a",
   "metadata": {},
   "outputs": [],
   "source": []
  }
 ],
 "metadata": {
  "kernelspec": {
   "display_name": "Python 3",
   "language": "python",
   "name": "python3"
  },
  "language_info": {
   "codemirror_mode": {
    "name": "ipython",
    "version": 3
   },
   "file_extension": ".py",
   "mimetype": "text/x-python",
   "name": "python",
   "nbconvert_exporter": "python",
   "pygments_lexer": "ipython3",
   "version": "3.8.8"
  }
 },
 "nbformat": 4,
 "nbformat_minor": 5
}
