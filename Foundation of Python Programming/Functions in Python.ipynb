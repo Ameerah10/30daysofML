{
 "cells": [
  {
   "cell_type": "markdown",
   "id": "7efabd28",
   "metadata": {},
   "source": [
    "## FUNCTIONS IN PYTHON\n",
    "\n",
    "Functions are used to break big compuyer programs into a couple of chunks which helps to organise the program. It is really exciting because you can wriye a couple of codes and pass it in a function, and then you kepp calling the function always rather than the entirety of the written codes.\n",
    "\n",
    "### Certain things to be aware off!!\n",
    "1. Functions always begin with the keyword 'def'; which literally means that you are defining a function\n",
    "2. The name of the function can be anything, however, it should be related to the action of the function. \n",
    "3. As with any built-in function, it must come with a parenthesis after the function name\n",
    "4. A colon then follows\n",
    "<!-- You can then insert all the required variables into the function -->\n",
    "\n",
    "Any line of function that follows is therefore included in the fnction\n"
   ]
  },
  {
   "cell_type": "code",
   "execution_count": 1,
   "id": "4c3e25ed",
   "metadata": {},
   "outputs": [],
   "source": [
    "def my_guy():\n",
    "    print('I like visiting my guys')"
   ]
  },
  {
   "cell_type": "code",
   "execution_count": 2,
   "id": "66b80fa8",
   "metadata": {},
   "outputs": [
    {
     "name": "stdout",
     "output_type": "stream",
     "text": [
      "I like visiting my guys\n"
     ]
    }
   ],
   "source": [
    "my_guy()"
   ]
  },
  {
   "cell_type": "code",
   "execution_count": 1,
   "id": "924313a2",
   "metadata": {},
   "outputs": [],
   "source": [
    "def bitcoin_to_usd(btc):\n",
    "    value = btc * 527\n",
    "    return value\n",
    "    "
   ]
  },
  {
   "cell_type": "code",
   "execution_count": 3,
   "id": "afefc691",
   "metadata": {},
   "outputs": [
    {
     "data": {
      "text/plain": [
       "2555.95"
      ]
     },
     "execution_count": 3,
     "metadata": {},
     "output_type": "execute_result"
    }
   ],
   "source": [
    "bitcoin_to_usd(4.85)"
   ]
  },
  {
   "cell_type": "code",
   "execution_count": 8,
   "id": "75653bf5",
   "metadata": {},
   "outputs": [],
   "source": [
    "def usd_to_naira(usd):\n",
    "    amount = usd * 620\n",
    "    return amount"
   ]
  },
  {
   "cell_type": "code",
   "execution_count": 10,
   "id": "789ea578",
   "metadata": {},
   "outputs": [
    {
     "data": {
      "text/plain": [
       "155000"
      ]
     },
     "execution_count": 10,
     "metadata": {},
     "output_type": "execute_result"
    }
   ],
   "source": [
    "usd_to_naira(250)"
   ]
  },
  {
   "cell_type": "code",
   "execution_count": 11,
   "id": "cee7bdae",
   "metadata": {},
   "outputs": [],
   "source": [
    "def allowed_dating_age(my_age):\n",
    "    girls_age = my_age/2 + 7\n",
    "    return girls_age"
   ]
  },
  {
   "cell_type": "code",
   "execution_count": 12,
   "id": "587a1eb1",
   "metadata": {},
   "outputs": [
    {
     "data": {
      "text/plain": [
       "27.0"
      ]
     },
     "execution_count": 12,
     "metadata": {},
     "output_type": "execute_result"
    }
   ],
   "source": [
    "allowed_dating_age(40)"
   ]
  },
  {
   "cell_type": "code",
   "execution_count": 6,
   "id": "4bc4ffd9",
   "metadata": {},
   "outputs": [],
   "source": [
    "def allowed_dating_age(my_age):\n",
    "    if my_age in range(15,60):\n",
    "        girls_age = my_age/2 + 7\n",
    "        print (f'Your age is {my_age} and you can date a girl of {girls_age}')"
   ]
  },
  {
   "cell_type": "code",
   "execution_count": 7,
   "id": "dfe23d21",
   "metadata": {},
   "outputs": [
    {
     "name": "stdout",
     "output_type": "stream",
     "text": [
      "Your age is 50 and you can date a girl of 32.0\n"
     ]
    }
   ],
   "source": [
    "allowed_dating_age(50)"
   ]
  },
  {
   "cell_type": "markdown",
   "id": "55f0997a",
   "metadata": {},
   "source": [
    "## Default values for argument"
   ]
  },
  {
   "cell_type": "code",
   "execution_count": 22,
   "id": "a58849a6",
   "metadata": {},
   "outputs": [],
   "source": [
    "def get_gender(sex):\n",
    "    if sex == 'm':\n",
    "        sex = 'Male'\n",
    "    elif sex == 'f':\n",
    "        sex = 'Female'\n",
    "    print(sex)"
   ]
  },
  {
   "cell_type": "code",
   "execution_count": 23,
   "id": "9d7a27ed",
   "metadata": {},
   "outputs": [
    {
     "name": "stdout",
     "output_type": "stream",
     "text": [
      "Male\n"
     ]
    }
   ],
   "source": [
    "get_gender('m')"
   ]
  },
  {
   "cell_type": "code",
   "execution_count": 25,
   "id": "7deb8b53",
   "metadata": {},
   "outputs": [],
   "source": [
    "def get_gender(sex='Unknown'):\n",
    "    if sex == 'm':\n",
    "        sex = 'Male'\n",
    "    elif sex == 'f':\n",
    "        sex = 'Female'\n",
    "    print(sex)"
   ]
  },
  {
   "cell_type": "code",
   "execution_count": 26,
   "id": "9463d41a",
   "metadata": {},
   "outputs": [
    {
     "name": "stdout",
     "output_type": "stream",
     "text": [
      "Unknown\n"
     ]
    }
   ],
   "source": [
    "get_gender()"
   ]
  },
  {
   "cell_type": "markdown",
   "id": "3460ab74",
   "metadata": {},
   "source": [
    "## Variable Scope\n",
    "\n",
    "If your variable is created outside your function, then your function can always access it and make reference to it.\n"
   ]
  },
  {
   "cell_type": "code",
   "execution_count": 27,
   "id": "b10c7d00",
   "metadata": {},
   "outputs": [],
   "source": [
    "x = 'I love building functions'\n",
    "\n",
    "def func(x):\n",
    "    print(x)\n",
    "    \n",
    "def function(x):\n",
    "    print(x)\n",
    "    "
   ]
  },
  {
   "cell_type": "code",
   "execution_count": 28,
   "id": "398513a6",
   "metadata": {},
   "outputs": [
    {
     "name": "stdout",
     "output_type": "stream",
     "text": [
      "I love building functions\n"
     ]
    }
   ],
   "source": [
    "func(x)"
   ]
  },
  {
   "cell_type": "code",
   "execution_count": 29,
   "id": "c7d42be6",
   "metadata": {},
   "outputs": [],
   "source": [
    "y = 'Functions are confusing'"
   ]
  },
  {
   "cell_type": "code",
   "execution_count": 30,
   "id": "e728767b",
   "metadata": {},
   "outputs": [
    {
     "name": "stdout",
     "output_type": "stream",
     "text": [
      "Functions are confusing\n"
     ]
    }
   ],
   "source": [
    "func(y)"
   ]
  },
  {
   "cell_type": "code",
   "execution_count": 31,
   "id": "09ad0e73",
   "metadata": {},
   "outputs": [
    {
     "name": "stdout",
     "output_type": "stream",
     "text": [
      "Functions are confusing\n"
     ]
    }
   ],
   "source": [
    "function(y)"
   ]
  },
  {
   "cell_type": "markdown",
   "id": "9f74e1ae",
   "metadata": {},
   "source": [
    "### Keyword Arguments"
   ]
  },
  {
   "cell_type": "code",
   "execution_count": 32,
   "id": "5690f0e5",
   "metadata": {},
   "outputs": [],
   "source": [
    "def create_sentence(name, action, item):\n",
    "    print(name, action, item)"
   ]
  },
  {
   "cell_type": "code",
   "execution_count": 37,
   "id": "e0ddc3de",
   "metadata": {},
   "outputs": [
    {
     "name": "stdout",
     "output_type": "stream",
     "text": [
      "Ade is good\n"
     ]
    }
   ],
   "source": [
    "create_sentence('Ade','is', 'good')"
   ]
  },
  {
   "cell_type": "code",
   "execution_count": 39,
   "id": "6e7c8b7c",
   "metadata": {},
   "outputs": [],
   "source": [
    "# If we then decide to change Ade to Bola, we need to retype everything\n",
    "# That is quite cumbersome,\n",
    "# Here is where keywords come into play\n",
    "\n",
    "def create_sentence(name='Ade', action='plays', item='football'):\n",
    "    print(name, action, item)"
   ]
  },
  {
   "cell_type": "code",
   "execution_count": 43,
   "id": "1c980089",
   "metadata": {},
   "outputs": [
    {
     "name": "stdout",
     "output_type": "stream",
     "text": [
      "Bola plays football\n"
     ]
    }
   ],
   "source": [
    "# Now since keyword arguments are in place, we can easily call each \n",
    "# individual argument and change it into something else.\n",
    "# NOTE that python understand all arguments based on their local position\n",
    "create_sentence('Bola')"
   ]
  },
  {
   "cell_type": "code",
   "execution_count": 44,
   "id": "988be3ca",
   "metadata": {},
   "outputs": [
    {
     "name": "stdout",
     "output_type": "stream",
     "text": [
      "Ade likes football\n"
     ]
    }
   ],
   "source": [
    "create_sentence(action='likes')"
   ]
  },
  {
   "cell_type": "code",
   "execution_count": 45,
   "id": "080d3273",
   "metadata": {},
   "outputs": [
    {
     "name": "stdout",
     "output_type": "stream",
     "text": [
      "Shade hates food\n"
     ]
    }
   ],
   "source": [
    "create_sentence(item='food', action='hates',name='Shade')"
   ]
  },
  {
   "cell_type": "markdown",
   "id": "99d3c8b0",
   "metadata": {},
   "source": [
    "### Flexible Number of Arguments"
   ]
  },
  {
   "cell_type": "code",
   "execution_count": 46,
   "id": "d2b68bb0",
   "metadata": {},
   "outputs": [],
   "source": [
    "def add_numbers(num1, num2):\n",
    "    total = num1 + num2\n",
    "    print(total)"
   ]
  },
  {
   "cell_type": "code",
   "execution_count": 47,
   "id": "b55048e1",
   "metadata": {},
   "outputs": [
    {
     "name": "stdout",
     "output_type": "stream",
     "text": [
      "8\n"
     ]
    }
   ],
   "source": [
    "add_numbers(3,5)"
   ]
  },
  {
   "cell_type": "code",
   "execution_count": 48,
   "id": "d0d9209f",
   "metadata": {},
   "outputs": [
    {
     "ename": "TypeError",
     "evalue": "add_numbers() takes 2 positional arguments but 3 were given",
     "output_type": "error",
     "traceback": [
      "\u001b[1;31m---------------------------------------------------------------------------\u001b[0m",
      "\u001b[1;31mTypeError\u001b[0m                                 Traceback (most recent call last)",
      "\u001b[1;32m<ipython-input-48-8e0932319922>\u001b[0m in \u001b[0;36m<module>\u001b[1;34m\u001b[0m\n\u001b[1;32m----> 1\u001b[1;33m \u001b[0madd_numbers\u001b[0m\u001b[1;33m(\u001b[0m\u001b[1;36m3\u001b[0m\u001b[1;33m,\u001b[0m\u001b[1;36m5\u001b[0m\u001b[1;33m,\u001b[0m\u001b[1;36m6\u001b[0m\u001b[1;33m)\u001b[0m\u001b[1;33m\u001b[0m\u001b[1;33m\u001b[0m\u001b[0m\n\u001b[0m",
      "\u001b[1;31mTypeError\u001b[0m: add_numbers() takes 2 positional arguments but 3 were given"
     ]
    }
   ],
   "source": [
    "add_numbers(3,5,6)"
   ]
  },
  {
   "cell_type": "code",
   "execution_count": 49,
   "id": "916af701",
   "metadata": {},
   "outputs": [],
   "source": [
    "def add_numbers(*args):\n",
    "    total = 0\n",
    "    for i in args:\n",
    "        total += i\n",
    "    print(total)"
   ]
  },
  {
   "cell_type": "code",
   "execution_count": 50,
   "id": "5a6d7fd6",
   "metadata": {},
   "outputs": [
    {
     "name": "stdout",
     "output_type": "stream",
     "text": [
      "54728705\n"
     ]
    }
   ],
   "source": [
    "add_numbers(54638387, 53763, 2233, 34322)"
   ]
  },
  {
   "cell_type": "code",
   "execution_count": 51,
   "id": "7644dab3",
   "metadata": {},
   "outputs": [],
   "source": [
    "def add_numbers(*args):\n",
    "    total = 0\n",
    "    for i in args:\n",
    "        total += i\n",
    "        print(total)"
   ]
  },
  {
   "cell_type": "code",
   "execution_count": 52,
   "id": "c7a7dd62",
   "metadata": {},
   "outputs": [
    {
     "name": "stdout",
     "output_type": "stream",
     "text": [
      "23\n",
      "46\n",
      "89\n"
     ]
    }
   ],
   "source": [
    "add_numbers(23,23,43)"
   ]
  },
  {
   "cell_type": "code",
   "execution_count": 53,
   "id": "c4a503db",
   "metadata": {},
   "outputs": [],
   "source": [
    "def square_numbers(num1, num2):\n",
    "    answer = num1 ** num2\n",
    "    print(answer)"
   ]
  },
  {
   "cell_type": "code",
   "execution_count": 54,
   "id": "a012e036",
   "metadata": {},
   "outputs": [
    {
     "name": "stdout",
     "output_type": "stream",
     "text": [
      "2187\n"
     ]
    }
   ],
   "source": [
    "square_numbers(3,7)"
   ]
  },
  {
   "cell_type": "markdown",
   "id": "d0c3f3cf",
   "metadata": {},
   "source": [
    "### Unpacking Arguments"
   ]
  },
  {
   "cell_type": "code",
   "execution_count": 65,
   "id": "6af72e95",
   "metadata": {},
   "outputs": [],
   "source": [
    "def health_calculator(age, litres_of_water, cigs_smoked, exercise_done):\n",
    "    expectancy = (120 - age) + (litres_of_water * 5) - (cigs_smoked * 10) + (exercise_done * 2)\n",
    "    print(expectancy)"
   ]
  },
  {
   "cell_type": "code",
   "execution_count": 66,
   "id": "5d404901",
   "metadata": {},
   "outputs": [
    {
     "name": "stdout",
     "output_type": "stream",
     "text": [
      "69\n"
     ]
    }
   ],
   "source": [
    "health_calculator(35, 4, 4, 2)"
   ]
  },
  {
   "cell_type": "code",
   "execution_count": 67,
   "id": "fafa3234",
   "metadata": {},
   "outputs": [],
   "source": [
    "def health_calculator(age, litres_of_water, cigs_smoked, exercise_done):\n",
    "    expectancy = (120 - age) + (litres_of_water * 5) - (cigs_smoked * 10) + (exercise_done * 2)\n",
    "    if expectancy > 50:\n",
    "        print('You are good to go')\n",
    "    else:\n",
    "        print('You will die soon bruv')"
   ]
  },
  {
   "cell_type": "code",
   "execution_count": 68,
   "id": "ecf32bdd",
   "metadata": {},
   "outputs": [
    {
     "name": "stdout",
     "output_type": "stream",
     "text": [
      "You will die soon bruv\n"
     ]
    }
   ],
   "source": [
    "health_calculator(15, 2, 30, 0)"
   ]
  },
  {
   "cell_type": "code",
   "execution_count": 69,
   "id": "b234374b",
   "metadata": {},
   "outputs": [],
   "source": [
    "guy1= [15,2,30,0]\n",
    "guy2= [34,5,0,3]"
   ]
  },
  {
   "cell_type": "code",
   "execution_count": 71,
   "id": "75a4ba70",
   "metadata": {},
   "outputs": [
    {
     "name": "stdout",
     "output_type": "stream",
     "text": [
      "You will die soon bruv\n"
     ]
    }
   ],
   "source": [
    "health_calculator(guy1[0], guy1[1],guy1[2], guy1[3])"
   ]
  },
  {
   "cell_type": "code",
   "execution_count": 74,
   "id": "00f75cd8",
   "metadata": {},
   "outputs": [
    {
     "name": "stdout",
     "output_type": "stream",
     "text": [
      "You are good to go\n"
     ]
    }
   ],
   "source": [
    "health_calculator(guy1[0], guy2[1], guy2[2], guy2[3])"
   ]
  },
  {
   "cell_type": "code",
   "execution_count": 75,
   "id": "0aa82628",
   "metadata": {},
   "outputs": [
    {
     "name": "stdout",
     "output_type": "stream",
     "text": [
      "You will die soon bruv\n"
     ]
    }
   ],
   "source": [
    "health_calculator(*guy1)"
   ]
  },
  {
   "cell_type": "markdown",
   "id": "f1febf39",
   "metadata": {},
   "source": [
    "## Exercise\n",
    "### Calculating Damage\n",
    "\n",
    "Create a function that takes damage and speed (attacks per second) and returns the amount of damage after a given time.\n",
    "Examples damage(40,5,'second') = 200\n",
    "         damage(100,1,'minute') = 6000\n",
    "         damage(1,100,'hour') = 720000\n",
    "         NOTE: It should return 'invalid' if the damage or speed is negative"
   ]
  },
  {
   "cell_type": "code",
   "execution_count": 76,
   "id": "d84de579",
   "metadata": {},
   "outputs": [],
   "source": [
    "def damage(damage, speed, n='second'):\n",
    "    invalid = 'invalid'\n",
    "    if damage < 0 or speed < 0:\n",
    "        return invalid\n",
    "    elif n == 'second':\n",
    "        amount = damage * speed * 1\n",
    "    elif n == 'minute':\n",
    "        amount = damage * speed * 60\n",
    "    else:\n",
    "        amount = damage * speed * 3600\n",
    "    return amount \n",
    "        "
   ]
  },
  {
   "cell_type": "code",
   "execution_count": 77,
   "id": "45489d74",
   "metadata": {},
   "outputs": [
    {
     "data": {
      "text/plain": [
       "'invalid'"
      ]
     },
     "execution_count": 77,
     "metadata": {},
     "output_type": "execute_result"
    }
   ],
   "source": [
    "damage(-5,2,'minute')"
   ]
  },
  {
   "cell_type": "code",
   "execution_count": 79,
   "id": "03651d7c",
   "metadata": {},
   "outputs": [
    {
     "data": {
      "text/plain": [
       "129600"
      ]
     },
     "execution_count": 79,
     "metadata": {},
     "output_type": "execute_result"
    }
   ],
   "source": [
    "damage(4,9,'hour')"
   ]
  },
  {
   "cell_type": "code",
   "execution_count": null,
   "id": "2a688fb5",
   "metadata": {},
   "outputs": [],
   "source": [
    "import random\n",
    "import urllib.request\n",
    "\n",
    "def download_web_image(url):\n",
    "    name = random.randrange(1,1000)\n",
    "    fullname = str(name) + '.jpeg'\n",
    "    urllib.request.urlretrieve"
   ]
  }
 ],
 "metadata": {
  "kernelspec": {
   "display_name": "Python 3",
   "language": "python",
   "name": "python3"
  },
  "language_info": {
   "codemirror_mode": {
    "name": "ipython",
    "version": 3
   },
   "file_extension": ".py",
   "mimetype": "text/x-python",
   "name": "python",
   "nbconvert_exporter": "python",
   "pygments_lexer": "ipython3",
   "version": "3.8.8"
  }
 },
 "nbformat": 4,
 "nbformat_minor": 5
}
